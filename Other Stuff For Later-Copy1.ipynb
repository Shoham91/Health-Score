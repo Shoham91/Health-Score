{
 "cells": [
  {
   "cell_type": "code",
   "execution_count": null,
   "id": "3b2a7955",
   "metadata": {},
   "outputs": [],
   "source": [
    "#Correlation Matrix between the different variables\n",
    "\n",
    "import seaborn as sns\n",
    "\n",
    "\n",
    "COE_tot_cor=COE_tot.loc[:, COE_tot.columns != 'COE_names']\n",
    "correlation_mat = COE_tot_cor.corr()\n",
    "sns.heatmap(correlation_mat, annot = True)"
   ]
  },
  {
   "cell_type": "code",
   "execution_count": null,
   "id": "d23a0f9c",
   "metadata": {},
   "outputs": [],
   "source": [
    "#Irrelavant for now.\n",
    "\n",
    "\n",
    "#import seaborn as sns\n",
    "\n",
    "#fig, axs = plt.subplots(2, 3,figsize=(20,10))\n",
    "#ig.suptitle('COE Variabales Correlation')\n",
    "\n",
    "#sns.regplot(x='COE_HS', y='COE_EUIs', data=COE_tot,ax=axs[0,0])\n",
    "#axs[0,0].set(title='Pearson Correlation = -0.31')\n",
    "#sns.regplot(x='COE_HS', y='Breach %', data=COE_tot,ax=axs[0,1])\n",
    "#axs[0,1].set(title='Pearson Correlation = 0.9')\n",
    "#sns.regplot(x=\"COE_HS\", y=\"Hours_Overdue\", data=COE_tot,ax=axs[0,2])\n",
    "#axs[0,2].set(title='Pearson Correlation = -0.52')\n",
    "#sns.regplot(x=\"COE_EUIs\", y=\"Breach %\", data=COE_tot,ax=axs[1,0])\n",
    "#axs[1,0].set(title='Pearson Correlation = -0.062')\n",
    "#sns.regplot(x=\"COE_EUIs\", y=\"Hours_Overdue\", data=COE_tot,ax=axs[1,1])\n",
    "#axs[1,1].set(title='Pearson Correlation = 0.58')\n",
    "#sns.regplot(x=\"Breach %\", y=\"Hours_Overdue\", data=COE_tot,ax=axs[1,2])\n",
    "#axs[1,2].set(title='Pearson Correlation = -0.3')\n",
    "\n",
    "\n",
    "#plt.show()"
   ]
  },
  {
   "cell_type": "code",
   "execution_count": null,
   "id": "7c34591b",
   "metadata": {},
   "outputs": [],
   "source": [
    "#Correlation Matrix between the different variables\n",
    "\n",
    "groups_tot_cor=groups_tot.loc[:, groups_tot.columns != 'groups_names']\n",
    "correlation_mat_2 = groups_tot_cor.corr()\n",
    "sns.heatmap(correlation_mat_2, annot = True)\n"
   ]
  },
  {
   "cell_type": "code",
   "execution_count": null,
   "id": "4b353cd2",
   "metadata": {},
   "outputs": [],
   "source": [
    "#Irrelavant\n",
    "\n",
    "#fig, axs = plt.subplots(2, 3,figsize=(20,10))\n",
    "#fig.suptitle('Group Variabales Correlation')\n",
    "\n",
    "#sns.regplot(x='group_HS', y='group_EUIs', data=groups_tot,ax=axs[0,0])\n",
    "#axs[0,0].set(title='Pearson Correlation = -0.47')\n",
    "#sns.regplot(x='group_HS', y='Breach %', data=groups_tot,ax=axs[0,1])\n",
    "#axs[0,1].set(title='Pearson Correlation = 0.76')\n",
    "#sns.regplot(x=\"group_HS\", y=\"Hours_Overdue\", data=groups_tot,ax=axs[0,2])\n",
    "#axs[0,2].set(title='Pearson Correlation = -0.45')\n",
    "#sns.regplot(x=\"group_EUIs\", y=\"Breach %\", data=groups_tot,ax=axs[1,0])\n",
    "#axs[1,0].set(title='Pearson Correlation = -0.26')\n",
    "#sns.regplot(x=\"group_EUIs\", y=\"Hours_Overdue\", data=groups_tot,ax=axs[1,1])\n",
    "#axs[1,1].set(title='Pearson Correlation = 0.59')\n",
    "#sns.regplot(x=\"Breach %\", y=\"Hours_Overdue\", data=groups_tot,ax=axs[1,2])\n",
    "#axs[1,2].set(title='Pearson Correlation = -0.31')\n",
    "\n",
    "#plt.show()"
   ]
  },
  {
   "cell_type": "code",
   "execution_count": null,
   "id": "cdf14429",
   "metadata": {},
   "outputs": [],
   "source": [
    "#Using a loop to calculate each month variables\n",
    "\n",
    "from datetime import datetime\n",
    "import matplotlib.pyplot as plt\n",
    "\n",
    "months_Sev=[]\n",
    "months_EUIs=[]\n",
    "months_per_breach=[]\n",
    "months_hours=[]\n",
    "months_hours1=[]\n",
    "k=0\n",
    "m=0\n",
    "\n",
    "months_names=data_analy[\"RESOLVED_TIMESTAMP\"].unique()\n",
    "months_names=sorted(months_names, key = lambda x: datetime.strptime(x, '%b-%y'))\n",
    "\n",
    "for i in months_names:\n",
    "    x=data_analy.loc[data_analy[\"RESOLVED_TIMESTAMP\"] == i]\n",
    "    y=len(x)\n",
    "    for j in range(0,len(x)):\n",
    "        if x.iloc[j,5] >= x.iloc[j,6]:\n",
    "            k=k+1\n",
    "        else:\n",
    "            m=x.iloc[j,6]-x.iloc[j,5]\n",
    "            m=((m/(x.iloc[j,5]))*100)\n",
    "            months_hours.append(m)              \n",
    "    months_EUIs.append(len(x.index))\n",
    "    months_per_breach.append(100-((k/y)*100))\n",
    "    months_hours1.append(statistics.mode(months_hours))\n",
    "    months_Sev.append(x.iloc[:,2].mean())\n",
    "\n",
    "    k=0\n",
    "    m=0\n",
    "    \n",
    "months_tot=pd.DataFrame(months_names, columns=['months_names'])\n",
    "months_tot['months_EUIs']=months_EUIs\n",
    "months_tot['Severity']=months_Sev\n",
    "months_tot['Breach %']=months_per_breach\n",
    "months_tot['Deviation %']=months_hours1\n",
    "\n",
    "months_tot\n",
    "#Here we can see each month's median and MAD Health Score"
   ]
  },
  {
   "cell_type": "code",
   "execution_count": null,
   "id": "0011934d",
   "metadata": {},
   "outputs": [],
   "source": [
    "#Correlation Matrix between the different variables\n",
    "\n",
    "months_tot_cor=months_tot.loc[:, months_tot.columns != 'months_mads']\n",
    "correlation_mat_3 = months_tot_cor.corr()\n",
    "sns.heatmap(correlation_mat_3, annot = True)"
   ]
  },
  {
   "cell_type": "code",
   "execution_count": null,
   "id": "aeb951ba",
   "metadata": {},
   "outputs": [],
   "source": [
    "#Irrelavant\n",
    "#fig, axs = plt.subplots(2, 3,figsize=(20,10))\n",
    "#fig.suptitle('Months Variabales Correlation')\n",
    "\n",
    "#sns.regplot(x='months_HS', y='months_EUIs', data=months_tot,ax=axs[0,0])\n",
    "#axs[0,0].set(title='Pearson Correlation = 0.52')\n",
    "#sns.regplot(x='months_HS', y='Breach %', data=months_tot,ax=axs[0,1])\n",
    "#axs[0,1].set(title='Pearson Correlation = 0.85')\n",
    "#sns.regplot(x=\"months_HS\", y=\"Hours_Overdue\", data=months_tot,ax=axs[0,2])\n",
    "#axs[0,2].set(title='Pearson Correlation = -0.43')\n",
    "#sns.regplot(x=\"months_EUIs\", y=\"Breach %\", data=months_tot,ax=axs[1,0])\n",
    "#axs[1,0].set(title='Pearson Correlation = 0.65')\n",
    "#sns.regplot(x=\"months_EUIs\", y=\"Hours_Overdue\", data=months_tot,ax=axs[1,1])\n",
    "#axs[1,1].set(title='Pearson Correlation = 0.21')\n",
    "#sns.regplot(x=\"Breach %\", y=\"Hours_Overdue\", data=months_tot,ax=axs[1,2])\n",
    "#axs[1,2].set(title='Pearson Correlation = -0.27')\n",
    "\n",
    "#plt.show()"
   ]
  }
 ],
 "metadata": {
  "kernelspec": {
   "display_name": "Python 3 (ipykernel)",
   "language": "python",
   "name": "python3"
  },
  "language_info": {
   "codemirror_mode": {
    "name": "ipython",
    "version": 3
   },
   "file_extension": ".py",
   "mimetype": "text/x-python",
   "name": "python",
   "nbconvert_exporter": "python",
   "pygments_lexer": "ipython3",
   "version": "3.9.7"
  }
 },
 "nbformat": 4,
 "nbformat_minor": 5
}
