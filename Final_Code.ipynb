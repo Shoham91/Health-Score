{
 "cells": [
  {
   "cell_type": "code",
   "execution_count": 2,
   "id": "94dcde81",
   "metadata": {
    "scrolled": true
   },
   "outputs": [],
   "source": [
    "import pandas as pd\n",
    "\n",
    "#Reading raw data\n",
    "data = pd.read_csv('full_data_may22.csv',encoding = \"ISO-8859-1\")"
   ]
  },
  {
   "cell_type": "code",
   "execution_count": 3,
   "id": "4c2a1497",
   "metadata": {},
   "outputs": [],
   "source": [
    "#Extracting only EUIs and SIBs\n",
    "data =  data.loc[data['EUI_OR_SIB'].isin(['EUI','SIB'])]"
   ]
  },
  {
   "cell_type": "code",
   "execution_count": 4,
   "id": "355d8275",
   "metadata": {},
   "outputs": [],
   "source": [
    "data_sus=data[data['HOUR_TO_COMPLETION'].isnull()]\n",
    "\n",
    "#Extracting out NaNs in 'Hour To Completion'\n",
    "data_sus.to_csv('nans.csv', index=False)"
   ]
  },
  {
   "cell_type": "code",
   "execution_count": 65,
   "id": "5de9d732",
   "metadata": {},
   "outputs": [],
   "source": [
    "#Extracting relevant variables\n",
    "data_analy = data[[\"ISSUE_KEY\",\"PLATFORM\",\"PRODUCT_FAMILY\",\"CREATED_TIMESTAMP\",\"SEVERITY\", \"GROUP_NAMES_SEPARATED\",\"COE_NAMES_SEPARATED_COPY\",\"RESOLUTION_TIME\",\"HOUR_TO_COMPLETION\",\"TEAMS_1\"]]"
   ]
  },
  {
   "cell_type": "code",
   "execution_count": 66,
   "id": "e720ede8",
   "metadata": {},
   "outputs": [
    {
     "name": "stderr",
     "output_type": "stream",
     "text": [
      "C:\\Users\\User\\AppData\\Local\\Temp/ipykernel_9848/909106011.py:1: SettingWithCopyWarning: \n",
      "A value is trying to be set on a copy of a slice from a DataFrame.\n",
      "Try using .loc[row_indexer,col_indexer] = value instead\n",
      "\n",
      "See the caveats in the documentation: https://pandas.pydata.org/pandas-docs/stable/user_guide/indexing.html#returning-a-view-versus-a-copy\n",
      "  data_analy['HOUR_TO_COMPLETION'] = data_analy['HOUR_TO_COMPLETION'].replace(0,1)\n"
     ]
    }
   ],
   "source": [
    "data_analy['HOUR_TO_COMPLETION'] = data_analy['HOUR_TO_COMPLETION'].replace(0,1) \n",
    "#Replacing zero with one so to avoid inf values"
   ]
  },
  {
   "cell_type": "code",
   "execution_count": 67,
   "id": "1bd84ca5",
   "metadata": {},
   "outputs": [],
   "source": [
    "#Removing NA Values\n",
    "data_analy = data_analy[data_analy['COE_NAMES_SEPARATED_COPY'].notna()]\n",
    "data_analy = data_analy[data_analy['GROUP_NAMES_SEPARATED'].notna()]\n",
    "data_analy = data_analy[data_analy['RESOLUTION_TIME'].notna()]\n",
    "data_analy = data_analy[data_analy['HOUR_TO_COMPLETION'].notna()]"
   ]
  },
  {
   "cell_type": "code",
   "execution_count": 69,
   "id": "7b39525a",
   "metadata": {},
   "outputs": [],
   "source": [
    "#Calculation of Teams Variables.\n",
    "\n",
    "import numpy as np\n",
    "import statistics as st\n",
    "\n",
    "k=0\n",
    "odds=[]\n",
    "bre=[]\n",
    "dev=[]\n",
    "rows = []\n",
    "for m in months_names:\n",
    "    x=data_analy.loc[(data_analy[\"CREATED_TIMESTAMP\"] == m)]\n",
    "    team_names=x['TEAMS_1'].unique()\n",
    "    for t in team_names:\n",
    "        y=x.loc[x['TEAMS_1']== t]\n",
    "        eui_tot=len(y)\n",
    "        sev_names=y['SEVERITY'].unique()\n",
    "        sev_names.sort()\n",
    "        for s in sev_names:\n",
    "            z=y.loc[y['SEVERITY']== s]\n",
    "            eui_s=(len(z)/len(y))*100\n",
    "            for i in range(0,len(z)):\n",
    "                odd=(z.iloc[i,8])/(z.iloc[i,7])\n",
    "                odds.append(odd)\n",
    "                if z.iloc[i,8] > z.iloc[i,7]:\n",
    "                    k=k+1\n",
    "            bre=(k/len(z))\n",
    "            dev=st.median(odds)\n",
    "            grou= z.iloc[i,5]\n",
    "            coe= z.iloc[i,6]\n",
    "            wei= int(s.replace('P',\"\"))\n",
    "            wei=5-wei\n",
    "            rows.append([m,t,s,eui_s,bre,dev,wei,grou,coe])\n",
    "            k=0\n",
    "            odds=[]\n",
    "\n",
    "df_months_team = pd.DataFrame(rows, columns=[\"Month\", \"Team\",\"Severity\",\"EUI Percentage\",\"Breach\",\"Deviation\",\"Weight\",\"Group\",\"COE\"])"
   ]
  },
  {
   "cell_type": "code",
   "execution_count": 70,
   "id": "b26a88c8",
   "metadata": {},
   "outputs": [],
   "source": [
    "# Normalizing all variables\n",
    "from sklearn import preprocessing\n",
    "df_months_team_stand=df_months_team\n",
    "min_max_scaler = preprocessing.MinMaxScaler()\n",
    "df_months_team_stand.iloc[:,3:7] = min_max_scaler.fit_transform(df_months_team_stand.iloc[:,3:7])"
   ]
  },
  {
   "cell_type": "code",
   "execution_count": 71,
   "id": "247d6976",
   "metadata": {},
   "outputs": [],
   "source": [
    "#Teams Health Score\n",
    "HS_COE=0\n",
    "df_teams = pd.DataFrame(columns = months_names)\n",
    "for m in months_names:\n",
    "    x=df_months_team_stand.loc[df_months_team[\"Month\"] == m]\n",
    "    team_names=x['Team'].unique()\n",
    "    for t in team_names:\n",
    "        y=x.loc[x['Team']== t]\n",
    "        for i in range(0,len(y)):\n",
    "            hs=((0.25*y.iloc[i,3])+(0.25*y.iloc[i,6])+(0.25*y.iloc[i,5])+(0.25*y.iloc[i,4]))\n",
    "            HS_COE=HS_COE+hs\n",
    "        df_teams.at[t,m] = 1/(HS_COE)\n",
    "        HS_COE=0"
   ]
  },
  {
   "cell_type": "code",
   "execution_count": 72,
   "id": "cd8d2aa9",
   "metadata": {},
   "outputs": [],
   "source": [
    "#Transforming to buckets and filling NA values with 4\n",
    "df_teams=df_teams.fillna(4)\n",
    "df_teams=round(df_teams)"
   ]
  },
  {
   "cell_type": "code",
   "execution_count": 73,
   "id": "7c23bac5",
   "metadata": {},
   "outputs": [],
   "source": [
    "#Calculation of Teams Variables, By platforms\n",
    "\n",
    "import numpy as np\n",
    "import statistics as st\n",
    "\n",
    "k=0\n",
    "odds=[]\n",
    "bre=[]\n",
    "dev=[]\n",
    "rows = []\n",
    "for m in months_names:\n",
    "    x=data_analy.loc[(data_analy[\"CREATED_TIMESTAMP\"] == m)]\n",
    "    team_names=x['TEAMS_1'].unique()\n",
    "    for t in team_names:\n",
    "        y=x.loc[x['TEAMS_1']== t]\n",
    "        eui_tot=len(y)\n",
    "        sev_names=y['SEVERITY'].unique()\n",
    "        sev_names.sort()\n",
    "        plt_names=y['PLATFORM'].unique()\n",
    "        for p in plt_names:\n",
    "            for s in sev_names:\n",
    "                z=y.loc[y['SEVERITY']== s]\n",
    "                eui_s=(len(z)/len(y))*100\n",
    "                for i in range(0,len(z)):\n",
    "                    odd=(z.iloc[i,8])/(z.iloc[i,7])\n",
    "                    odds.append(odd)\n",
    "                    if z.iloc[i,8] > z.iloc[i,7]:\n",
    "                        k=k+1\n",
    "                bre=(k/len(z))\n",
    "                dev=st.median(odds)\n",
    "                grou= z.iloc[i,5]\n",
    "                coe= z.iloc[i,6]\n",
    "                wei= int(s.replace('P',\"\"))\n",
    "                wei=5-wei\n",
    "                rows.append([m,t,s,eui_s,bre,dev,wei,p,grou,coe])\n",
    "                k=0\n",
    "                odds=[]\n",
    "\n",
    "df_months_team_plat = pd.DataFrame(rows, columns=[\"Month\", \"Team\",\"Severity\",\"EUI Percentage\",\"Breach\",\"Deviation\",\"Weight\",\"Platform\",\"Group\",\"COE\"])\n"
   ]
  },
  {
   "cell_type": "code",
   "execution_count": 74,
   "id": "980095a0",
   "metadata": {},
   "outputs": [
    {
     "data": {
      "text/plain": [
       "Month             0\n",
       "Team              0\n",
       "Severity          0\n",
       "EUI Percentage    0\n",
       "Breach            0\n",
       "Deviation         0\n",
       "Weight            0\n",
       "Platform          0\n",
       "Group             0\n",
       "COE               0\n",
       "dtype: int64"
      ]
     },
     "execution_count": 74,
     "metadata": {},
     "output_type": "execute_result"
    }
   ],
   "source": [
    "# Ignoring all EUIs with no platform (for now)\n",
    "df_months_team_plat.isnull().sum(axis = 0)\n",
    "df_months_team_plat=df_months_team_plat.fillna('None')\n",
    "df_months_team_plat.isnull().sum(axis = 0)"
   ]
  },
  {
   "cell_type": "code",
   "execution_count": 75,
   "id": "022ec0ac",
   "metadata": {},
   "outputs": [],
   "source": [
    "#Normalizing team data by platform\n",
    "from sklearn import preprocessing\n",
    "df_months_team_plat_stand=df_months_team_plat\n",
    "min_max_scaler = preprocessing.MinMaxScaler()\n",
    "df_months_team_plat_stand.iloc[:,3:7] = min_max_scaler.fit_transform(df_months_team_plat_stand.iloc[:,3:7])"
   ]
  },
  {
   "cell_type": "code",
   "execution_count": 76,
   "id": "900620d5",
   "metadata": {},
   "outputs": [],
   "source": [
    "###### Teams Health Score by Platforms\n",
    "\n",
    "#Web\n",
    "df_teams_web = pd.DataFrame(columns = months_names)\n",
    "HS_COE=0\n",
    "\n",
    "df_months_team_plat_stand_web = pd.DataFrame(columns = months_names)\n",
    "df_months_team_plat_stand_web = df_months_team_plat_stand[df_months_team_plat_stand['Platform'].str.contains('Web')]\n",
    "for m in months_names:\n",
    "    x=df_months_team_plat_stand_web.loc[df_months_team_plat_stand_web[\"Month\"] == m]\n",
    "    team_names=x['Team'].unique()\n",
    "    for t in team_names:\n",
    "        y=x.loc[x['Team']== t]\n",
    "        for i in range(0,len(y)):\n",
    "            hs=((0.25*y.iloc[i,3])+(0.25*y.iloc[i,6])+(0.25*y.iloc[i,5])+(0.25*y.iloc[i,4]))\n",
    "            HS_COE=HS_COE+hs\n",
    "        df_teams_web.at[t,m] = 1/(HS_COE)\n",
    "        HS_COE=0\n",
    "\n",
    "\n",
    "#iOS\n",
    "df_teams_ios = pd.DataFrame(columns = months_names)\n",
    "HS_COE=0\n",
    "\n",
    "df_months_team_plat_stand_ios = pd.DataFrame(columns = months_names)\n",
    "df_months_team_plat_stand_ios = df_months_team_plat_stand[df_months_team_plat_stand['Platform'].str.contains('iOS')]\n",
    "for m in months_names:\n",
    "    x=df_months_team_plat_stand_ios.loc[df_months_team_plat_stand_ios[\"Month\"] == m]\n",
    "    team_names=x['Team'].unique()\n",
    "    for t in team_names:\n",
    "        y=x.loc[x['Team']== t]\n",
    "        for i in range(0,len(y)):\n",
    "            hs=((0.25*y.iloc[i,3])+(0.25*y.iloc[i,6])+(0.25*y.iloc[i,5])+(0.25*y.iloc[i,4]))\n",
    "            HS_COE=HS_COE+hs\n",
    "        df_teams_ios.at[t,m] = 1/(HS_COE)\n",
    "        HS_COE=0\n",
    "\n",
    "\n",
    "#Android\n",
    "df_teams_android = pd.DataFrame(columns = months_names)\n",
    "HS_COE=0\n",
    "\n",
    "df_months_team_plat_stand_android = pd.DataFrame(columns = months_names)\n",
    "df_months_team_plat_stand_android = df_months_team_plat_stand[df_months_team_plat_stand['Platform'].str.contains('Android')]\n",
    "for m in months_names:\n",
    "    x=df_months_team_plat_stand_android.loc[df_months_team_plat_stand_android[\"Month\"] == m]\n",
    "    team_names=x['Team'].unique()\n",
    "    for t in team_names:\n",
    "        y=x.loc[x['Team']== t]\n",
    "        for i in range(0,len(y)):\n",
    "            hs=((0.25*y.iloc[i,3])+(0.25*y.iloc[i,6])+(0.25*y.iloc[i,5])+(0.25*y.iloc[i,4]))\n",
    "            HS_COE=HS_COE+hs\n",
    "        df_teams_android.at[t,m] = 1/(HS_COE)\n",
    "        HS_COE=0\n",
    "\n",
    "\n",
    "#Windows\n",
    "df_teams_wind = pd.DataFrame(columns = months_names)\n",
    "HS_COE=0\n",
    "\n",
    "df_months_team_plat_stand_wind = pd.DataFrame(columns = months_names)\n",
    "df_months_team_plat_stand_wind = df_months_team_plat_stand[df_months_team_plat_stand['Platform'].str.contains('Windows')]\n",
    "for m in months_names:\n",
    "    x=df_months_team_plat_stand_wind.loc[df_months_team_plat_stand_wind[\"Month\"] == m]\n",
    "    team_names=x['Team'].unique()\n",
    "    for t in team_names:\n",
    "        y=x.loc[x['Team']== t]\n",
    "        for i in range(0,len(y)):\n",
    "            hs=((0.25*y.iloc[i,3])+(0.25*y.iloc[i,6])+(0.25*y.iloc[i,5])+(0.25*y.iloc[i,4]))\n",
    "            HS_COE=HS_COE+hs\n",
    "        df_teams_wind.at[t,m] = 1/(HS_COE)\n",
    "        HS_COE=0\n",
    "\n",
    "\n",
    "#Backend\n",
    "df_teams_back = pd.DataFrame(columns = months_names)\n",
    "HS_COE=0\n",
    "\n",
    "df_months_team_plat_stand_back = pd.DataFrame(columns = months_names)\n",
    "df_months_team_plat_stand_back = df_months_team_plat_stand[df_months_team_plat_stand['Platform'].str.contains('Backend')]\n",
    "for m in months_names:\n",
    "    x=df_months_team_plat_stand_back.loc[df_months_team_plat_stand_back[\"Month\"] == m]\n",
    "    team_names=x['Team'].unique()\n",
    "    for t in team_names:\n",
    "        y=x.loc[x['Team']== t]\n",
    "        for i in range(0,len(y)):\n",
    "            hs=((0.25*y.iloc[i,3])+(0.25*y.iloc[i,6])+(0.25*y.iloc[i,5])+(0.25*y.iloc[i,4]))\n",
    "            HS_COE=HS_COE+hs\n",
    "        df_teams_back.at[t,m] = 1/(HS_COE)\n",
    "        HS_COE=0"
   ]
  },
  {
   "cell_type": "code",
   "execution_count": 77,
   "id": "90563d68",
   "metadata": {},
   "outputs": [],
   "source": [
    "#Final Health Score Calculation\n",
    "\n",
    "#Web\n",
    "df_teams_web=df_teams_web.fillna(4)\n",
    "df_teams_web=round(df_teams_web)\n",
    "\n",
    "#iOS\n",
    "df_teams_ios=df_teams_ios.fillna(4)\n",
    "df_teams_ios=round(df_teams_ios)\n",
    "\n",
    "#Android\n",
    "df_teams_android=df_teams_android.fillna(4)\n",
    "df_teams_android=round(df_teams_android)\n",
    "\n",
    "#Windows\n",
    "df_teams_wind=df_teams_wind.fillna(4)\n",
    "df_teams_wind=round(df_teams_wind)\n",
    "\n",
    "#Backend\n",
    "df_teams_back=df_teams_back.fillna(4)\n",
    "df_teams_back=round(df_teams_back)\n"
   ]
  },
  {
   "cell_type": "code",
   "execution_count": 78,
   "id": "38fd98ae",
   "metadata": {},
   "outputs": [],
   "source": [
    "#Calculation of Teams Variables, By Product\n",
    "\n",
    "import numpy as np\n",
    "import statistics as st\n",
    "\n",
    "k=0\n",
    "odds=[]\n",
    "bre=[]\n",
    "dev=[]\n",
    "rows = []\n",
    "for m in months_names:\n",
    "    x=data_analy.loc[(data_analy[\"CREATED_TIMESTAMP\"] == m)]\n",
    "    team_names=x['TEAMS_1'].unique()\n",
    "    for t in team_names:\n",
    "        y=x.loc[x['TEAMS_1']== t]\n",
    "        eui_tot=len(y)\n",
    "        sev_names=y['SEVERITY'].unique()\n",
    "        sev_names.sort()\n",
    "        product_names=y['PRODUCT_FAMILY'].unique()\n",
    "        for prod in product_names:\n",
    "            for s in sev_names:\n",
    "                z=y.loc[y['SEVERITY']== s]\n",
    "                eui_s=(len(z)/len(y))*100\n",
    "                for i in range(0,len(z)):\n",
    "                    odd=(z.iloc[i,8])/(z.iloc[i,7])\n",
    "                    odds.append(odd)\n",
    "                    if z.iloc[i,8] > z.iloc[i,7]:\n",
    "                        k=k+1\n",
    "                bre=(k/len(z))\n",
    "                dev=st.median(odds)\n",
    "                grou= z.iloc[i,5]\n",
    "                coe= z.iloc[i,6]\n",
    "                wei= int(s.replace('P',\"\"))\n",
    "                wei=5-wei\n",
    "                rows.append([m,t,s,eui_s,bre,dev,wei,prod,grou,coe])\n",
    "                k=0\n",
    "                odds=[]\n",
    "\n",
    "df_months_team_prod = pd.DataFrame(rows, columns=[\"Month\", \"Team\",\"Severity\",\"EUI Percentage\",\"Breach\",\"Deviation\",\"Weight\",\"Product\",\"Group\",\"COE\"])"
   ]
  },
  {
   "cell_type": "code",
   "execution_count": 79,
   "id": "f6e2b7de",
   "metadata": {},
   "outputs": [
    {
     "data": {
      "text/plain": [
       "Month             0\n",
       "Team              0\n",
       "Severity          0\n",
       "EUI Percentage    0\n",
       "Breach            0\n",
       "Deviation         0\n",
       "Weight            0\n",
       "Product           0\n",
       "Group             0\n",
       "COE               0\n",
       "dtype: int64"
      ]
     },
     "execution_count": 79,
     "metadata": {},
     "output_type": "execute_result"
    }
   ],
   "source": [
    "#Ignoring all EUIs with no product (for now)\n",
    "df_months_team_prod.isnull().sum(axis = 0)\n",
    "df_months_team_prod=df_months_team_prod.fillna('None')\n",
    "df_months_team_prod.isnull().sum(axis = 0)"
   ]
  },
  {
   "cell_type": "code",
   "execution_count": 80,
   "id": "aa5fdb0d",
   "metadata": {},
   "outputs": [],
   "source": [
    "#Normalizing data by platform\n",
    "from sklearn import preprocessing\n",
    "df_months_team_prod_stand=df_months_team_prod\n",
    "min_max_scaler = preprocessing.MinMaxScaler()\n",
    "df_months_team_prod_stand.iloc[:,3:7] = min_max_scaler.fit_transform(df_months_team_prod_stand.iloc[:,3:7])"
   ]
  },
  {
   "cell_type": "code",
   "execution_count": 81,
   "id": "001ac3a5",
   "metadata": {},
   "outputs": [],
   "source": [
    "#Teams Health Score by Products\n",
    "\n",
    "#ACC\n",
    "df_teams_acc = pd.DataFrame(columns = months_names)\n",
    "HS_COE=0\n",
    "\n",
    "df_months_team_prod_stand_acc = pd.DataFrame(columns = months_names)\n",
    "df_months_team_prod_stand_acc = df_months_team_prod_stand[df_months_team_prod_stand['Product'].str.contains('ACC')]\n",
    "for m in months_names:\n",
    "    x=df_months_team_prod_stand_acc.loc[df_months_team_prod_stand_acc[\"Month\"] == m]\n",
    "    team_names=x['Team'].unique()\n",
    "    for t in team_names:\n",
    "        y=x.loc[x['Team']== t]\n",
    "        for i in range(0,len(y)):\n",
    "            hs=((0.25*y.iloc[i,3])+(0.25*y.iloc[i,6])+(0.25*y.iloc[i,5])+(0.25*y.iloc[i,4]))\n",
    "            HS_COE=HS_COE+hs\n",
    "        df_teams_acc.at[t,m] = 1/(HS_COE)\n",
    "        HS_COE=0\n",
    "\n",
    "\n",
    "#BIM 360\n",
    "df_teams_bim = pd.DataFrame(columns = months_names)\n",
    "HS_COE=0\n",
    "\n",
    "df_months_team_prod_stand_bim = pd.DataFrame(columns = months_names)\n",
    "df_months_team_prod_stand_bim = df_months_team_prod_stand[df_months_team_prod_stand['Product'].str.contains('BIM 360')]\n",
    "for m in months_names:\n",
    "    x=df_months_team_prod_stand_bim.loc[df_months_team_prod_stand_bim[\"Month\"] == m]\n",
    "    team_names=x['Team'].unique()\n",
    "    for t in team_names:\n",
    "        y=x.loc[x['Team']== t]\n",
    "        for i in range(0,len(y)):\n",
    "            hs=((0.25*y.iloc[i,3])+(0.25*y.iloc[i,6])+(0.25*y.iloc[i,5])+(0.25*y.iloc[i,4]))\n",
    "            HS_COE=HS_COE+hs\n",
    "        df_teams_bim.at[t,m] = 1/(HS_COE)\n",
    "        HS_COE=0\n",
    "\n",
    "\n",
    "#PlanGrid\n",
    "df_teams_pg = pd.DataFrame(columns = months_names)\n",
    "HS_COE=0\n",
    "\n",
    "df_months_team_prod_stand_pg = pd.DataFrame(columns = months_names)\n",
    "df_months_team_prod_stand_pg = df_months_team_prod_stand[df_months_team_prod_stand['Product'].str.contains('PlanGrid')]\n",
    "for m in months_names:\n",
    "    x=df_months_team_prod_stand_pg.loc[df_months_team_prod_stand_pg[\"Month\"] == m]\n",
    "    team_names=x['Team'].unique()\n",
    "    for t in team_names:\n",
    "        y=x.loc[x['Team']== t]\n",
    "        for i in range(0,len(y)):\n",
    "            hs=((0.25*y.iloc[i,3])+(0.25*y.iloc[i,6])+(0.25*y.iloc[i,5])+(0.25*y.iloc[i,4]))\n",
    "            HS_COE=HS_COE+hs\n",
    "        df_teams_pg.at[t,m] = 1/(HS_COE)\n",
    "        HS_COE=0"
   ]
  },
  {
   "cell_type": "code",
   "execution_count": 82,
   "id": "923ddec4",
   "metadata": {},
   "outputs": [],
   "source": [
    "#Final Health Score Calculation\n",
    "\n",
    "#ACC\n",
    "df_teams_acc=df_teams_acc.fillna(4)\n",
    "df_teams_acc=round(df_teams_acc)\n",
    "\n",
    "#BIM 360\n",
    "df_teams_bim=df_teams_bim.fillna(4)\n",
    "df_teams_bim=round(df_teams_bim)\n",
    "\n",
    "#PlanGrid\n",
    "df_teams_pg=df_teams_pg.fillna(4)\n",
    "df_teams_pg=round(df_teams_pg)"
   ]
  },
  {
   "cell_type": "code",
   "execution_count": 83,
   "id": "5a802f3e",
   "metadata": {},
   "outputs": [],
   "source": [
    "# Calculating Group Health Score by Teams' Average Health Score\n",
    "groups=data_analy['GROUP_NAMES_SEPARATED'].unique()\n",
    "data_analy=data_analy.fillna('None')"
   ]
  },
  {
   "cell_type": "code",
   "execution_count": 84,
   "id": "c53230f2",
   "metadata": {},
   "outputs": [],
   "source": [
    "df_group = pd.DataFrame(columns = months_names)\n",
    "for g in groups:\n",
    "    xa=data_analy.loc[(data_analy['GROUP_NAMES_SEPARATED']==g)]\n",
    "    rowt=xa['TEAMS_1'].unique()\n",
    "    if 'None' in rowt:\n",
    "        rowt=rowt.tolist()\n",
    "        rowt.remove('None')\n",
    "    df_group.at[g,:]=df_teams.loc[rowt,:].mean(axis=0)"
   ]
  },
  {
   "cell_type": "code",
   "execution_count": 85,
   "id": "24f6ef79",
   "metadata": {},
   "outputs": [],
   "source": [
    "df_group=round(df_group)"
   ]
  },
  {
   "cell_type": "code",
   "execution_count": 86,
   "id": "668f850b",
   "metadata": {},
   "outputs": [],
   "source": [
    "# Calculating COE Health Score by Teams' Average Health Score\n",
    "\n",
    "coes=data_analy['COE_NAMES_SEPARATED_COPY'].unique()\n",
    "\n",
    "df_coe = pd.DataFrame(columns = months_names)\n",
    "for c in coes:\n",
    "    xa=data_analy.loc[(data_analy['COE_NAMES_SEPARATED_COPY']==c)]\n",
    "    rowt=xa['GROUP_NAMES_SEPARATED'].unique()\n",
    "    if 'None' in rowt:\n",
    "        rowt=rowt.tolist()\n",
    "        rowt.remove('None')\n",
    "    df_coe.at[c,:]=df_group.loc[rowt,:].mean(axis=0)"
   ]
  },
  {
   "cell_type": "code",
   "execution_count": 87,
   "id": "1f01f805",
   "metadata": {
    "scrolled": false
   },
   "outputs": [],
   "source": [
    "df_coe=round(df_coe)"
   ]
  }
 ],
 "metadata": {
  "kernelspec": {
   "display_name": "Python 3 (ipykernel)",
   "language": "python",
   "name": "python3"
  },
  "language_info": {
   "codemirror_mode": {
    "name": "ipython",
    "version": 3
   },
   "file_extension": ".py",
   "mimetype": "text/x-python",
   "name": "python",
   "nbconvert_exporter": "python",
   "pygments_lexer": "ipython3",
   "version": "3.9.7"
  }
 },
 "nbformat": 4,
 "nbformat_minor": 5
}
